{
 "cells": [
  {
   "cell_type": "code",
   "execution_count": 7,
   "metadata": {},
   "outputs": [
    {
     "name": "stdout",
     "output_type": "stream",
     "text": [
      "Using matplotlib backend: TkAgg\n"
     ]
    }
   ],
   "source": [
    "#using matplotlib mode, it chooses a suitable backend\n",
    "%matplotlib"
   ]
  },
  {
   "cell_type": "code",
   "execution_count": 8,
   "metadata": {
    "scrolled": true
   },
   "outputs": [],
   "source": [
    "import csv\n",
    "import numpy as np\n",
    "import matplotlib.pyplot as plt\n",
    "\n",
    "datadict = {}\n",
    "with open('data_1.csv') as csvfile:\n",
    "\tdata = csv.reader(csvfile, delimiter = ',')\n",
    "\tfor row in data:\n",
    "\t\tdatadict[row[0]] = row[1]\n",
    "\n",
    "#Creating a matrix of each type to further compute\n",
    "matrix_y = []\n",
    "matrix_x = []\n",
    "for i in datadict:\n",
    "\ttry:\n",
    "\t\tmatrix_y.append(float(datadict[i]))\n",
    "\t\tmatrix_x.append([float(i)*float(i), float(i), 1])\n",
    "\texcept ValueError:\n",
    "\t\t#The value found is not a float\n",
    "\t\tcontinue\n",
    "\n",
    "y = np.array(matrix_y)\n",
    "x = np.array(matrix_x)\n",
    "\n",
    "xt = np.transpose(x)\n",
    "#print(YT)\n",
    "one = np.linalg.inv(np.matmul(xt, x))\n",
    "two = np.matmul(xt, y)\n",
    "\n",
    "B = np.matmul(one, two)\n",
    "\n",
    "yi = []\n",
    "xcoords = []\n",
    "for xi in x:\n",
    "\tyi.append(xi[0]*B[0] + xi[1]*B[1] + xi[2]*B[2])\n",
    "\txcoords.append(xi[1])\n",
    "\n",
    "plt.plot(xcoords, matrix_y, 'bo')\n",
    "plt.plot(xcoords, yi, 'ro')\n",
    "plt.show()"
   ]
  },
  {
   "cell_type": "code",
   "execution_count": null,
   "metadata": {},
   "outputs": [],
   "source": []
  },
  {
   "cell_type": "code",
   "execution_count": null,
   "metadata": {},
   "outputs": [],
   "source": []
  },
  {
   "cell_type": "code",
   "execution_count": null,
   "metadata": {},
   "outputs": [],
   "source": []
  },
  {
   "cell_type": "code",
   "execution_count": null,
   "metadata": {},
   "outputs": [],
   "source": []
  },
  {
   "cell_type": "code",
   "execution_count": null,
   "metadata": {},
   "outputs": [],
   "source": []
  },
  {
   "cell_type": "code",
   "execution_count": null,
   "metadata": {},
   "outputs": [],
   "source": []
  },
  {
   "cell_type": "code",
   "execution_count": null,
   "metadata": {},
   "outputs": [],
   "source": []
  },
  {
   "cell_type": "code",
   "execution_count": null,
   "metadata": {},
   "outputs": [],
   "source": []
  },
  {
   "cell_type": "code",
   "execution_count": null,
   "metadata": {},
   "outputs": [],
   "source": []
  },
  {
   "cell_type": "code",
   "execution_count": null,
   "metadata": {},
   "outputs": [],
   "source": []
  },
  {
   "cell_type": "code",
   "execution_count": null,
   "metadata": {},
   "outputs": [],
   "source": []
  },
  {
   "cell_type": "code",
   "execution_count": null,
   "metadata": {},
   "outputs": [],
   "source": []
  }
 ],
 "metadata": {
  "kernelspec": {
   "display_name": "Python 3",
   "language": "python",
   "name": "python3"
  },
  "language_info": {
   "codemirror_mode": {
    "name": "ipython",
    "version": 3
   },
   "file_extension": ".py",
   "mimetype": "text/x-python",
   "name": "python",
   "nbconvert_exporter": "python",
   "pygments_lexer": "ipython3",
   "version": "3.6.9"
  }
 },
 "nbformat": 4,
 "nbformat_minor": 4
}
