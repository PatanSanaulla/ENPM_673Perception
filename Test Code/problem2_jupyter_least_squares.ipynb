{
 "cells": [
  {
   "cell_type": "code",
   "execution_count": 7,
   "metadata": {},
   "outputs": [
    {
     "name": "stdout",
     "output_type": "stream",
     "text": [
      "Using matplotlib backend: TkAgg\n"
     ]
    }
   ],
   "source": [
    "#using matplotlib mode, it chooses a suitable backend\n",
    "%matplotlib"
   ]
  },
  {
   "cell_type": "code",
   "execution_count": 9,
   "metadata": {
    "scrolled": true
   },
   "outputs": [],
   "source": [
    "import csv\n",
    "import numpy as np\n",
    "import matplotlib.pyplot as plt\n",
    "\n",
    "datadict = {}\n",
    "with open('data_1.csv') as csvfile:\n",
    "\tdata = csv.reader(csvfile, delimiter = ',')\n",
    "\tfor row in data:\n",
    "\t\tdatadict[row[0]] = row[1]\n",
    "\n",
    "#Creating a matrix of each type to further compute\n",
    "matrix_y = []\n",
    "matrix_x = []\n",
    "for i in datadict:\n",
    "\ttry:\n",
    "\t\tmatrix_y.append(float(datadict[i]))\n",
    "\t\tmatrix_x.append([float(i)*float(i), float(i), 1])\n",
    "\texcept ValueError:\n",
    "\t\t#The value found is not a float\n",
    "\t\tcontinue\n",
    "\n",
    "y = np.array(matrix_y)\n",
    "x = np.array(matrix_x)\n",
    "\n",
    "xt = np.transpose(x) mnnn\n",
    "#print(YT)\n",
    "one = np.linalg.inv(np.matmul(xt, x))\n",
    "two = np.matmul(xt, y)\n",
    "\n",
    "B = np.matmul(one, two)\n",
    "\n",
    "yi = []\n",
    "xcoords = []\n",
    "for xi in x:\n",
    "\tyi.append(xi[0]*B[0] + xi[1]*B[1] + xi[2]*B[2])\n",
    "\txcoords.append(xi[1])\n",
    "\n",
    "plt.plot(xcoords, matrix_y, 'bo')\n",
    "plt.plot(xcoords, yi, 'ro')\n",
    "plt.show()"
   ]
  },
  {
   "cell_type": "code",
   "execution_count": 25,
   "metadata": {},
   "outputs": [],
   "source": [
    "def check_inlier(a,b,c,xi,yi,t):\n",
    "    \n",
    "    distance = yi -(a*(xi**2)) - (b*xi) - c\n",
    "    \n",
    "    if abs(distance) <= t:\n",
    "        return 1\n",
    "    \n",
    "    else:\n",
    "        return 0\n",
    "\n",
    "\n",
    "    "
   ]
  },
  {
   "cell_type": "code",
   "execution_count": 31,
   "metadata": {},
   "outputs": [
    {
     "data": {
      "text/plain": [
       "1"
      ]
     },
     "execution_count": 31,
     "metadata": {},
     "output_type": "execute_result"
    }
   ],
   "source": [
    "check_inlier(1,2,2.7,0,0,3)\n"
   ]
  },
  {
   "cell_type": "code",
   "execution_count": 5,
   "metadata": {},
   "outputs": [],
   "source": [
    "import numpy as np \n",
    "import math\n",
    "from numpy import linalg as LA\n",
    "\n",
    "# First entry in list set as None for more intuitive indexing\n",
    "x = [None, 5, 150, 150, 5]\n",
    "y = [None, 5, 5, 150, 150]\n",
    "xp = [None, 100, 200, 220, 100]\n",
    "yp = [None, 100, 80, 80, 200]\n",
    "\n",
    "A = np.array([[-x[1], -y[1], -1, 0, 0, 0, x[1]*xp[1], y[1]*xp[1], xp[1]], \n",
    "\t[0, 0, 0, -x[1], -y[1], -1, x[1]*yp[1], y[1]*yp[1], yp[1]], \n",
    "\t[-x[2], -y[2], -1, 0, 0, 0, x[2]*xp[2], y[2]*xp[2], xp[2]], \n",
    "\t[0, 0, 0, -x[2], -y[2], -1, x[2]*yp[2], y[2]*yp[2], yp[2]], \n",
    "\t[-x[3], -y[3], -1, 0, 0, 0, x[3]*xp[3], y[3]*xp[3], xp[3]], \n",
    "\t[0, 0, 0, -x[3], -y[3], -1, x[3]*yp[3], y[3]*yp[3], yp[3]], \n",
    "\t[-x[4], -y[4], -1, 0, 0, 0, x[4]*xp[4], y[4]*xp[4], xp[4]], \n",
    "\t[0, 0, 0, -x[4], -y[4], -1, x[4]*yp[4], y[4]*yp[4], yp[4]]])\n",
    "\n"
   ]
  },
  {
   "cell_type": "code",
   "execution_count": 2,
   "metadata": {},
   "outputs": [],
   "source": [
    "\n",
    "A_transpose = np.transpose(A)\n",
    "\n",
    "# intermediate_matrix = c_transpose * c\n",
    "# intermediate_matrix = np.multiply(c_transpose,c)   #does the dot product\n",
    "intermediate_matrix = np.matmul(A_transpose,A)\n",
    "\n",
    "# print(f'C transpose:\\n {c_transpose}')\n",
    "\n",
    "# print(f'Intermediate matrix:\\n {intermediate_matrix}')\n",
    "\n",
    "# eigen_value_matrix = np.diag((1, 2, 3))\n",
    "# print(diagonal_test)\n"
   ]
  },
  {
   "cell_type": "code",
   "execution_count": 8,
   "metadata": {},
   "outputs": [
    {
     "name": "stdout",
     "output_type": "stream",
     "text": [
      "[ 3.62583363e+09  1.01280011e+09  6.80651927e+04  3.46776193e+04\n",
      "  2.12012335e+04  3.70648899e+03  1.52001454e+01  6.56490976e-01\n",
      " -4.76010921e-10]\n",
      "[[ 2.84043894e-03  3.14430147e-03 -2.46384735e-01 -1.58554932e-01\n",
      "  -1.75245114e-01  1.76705635e-01  9.13738625e-01 -1.20261073e-01\n",
      "   5.31056350e-02]\n",
      " [ 2.42121739e-03 -1.28321626e-03 -3.77000733e-01  1.76600215e-01\n",
      "   6.89508147e-01  5.90273326e-01 -5.29344506e-02 -2.23230964e-03\n",
      "  -4.91718844e-03]\n",
      " [ 2.20891154e-05  1.13495064e-05 -2.37217168e-03 -3.65660431e-03\n",
      "   5.19584361e-03  7.52000216e-03  6.59901592e-02  7.85970680e-01\n",
      "   6.14648552e-01]\n",
      " [ 1.09109680e-03  1.17416448e-03  6.61240940e-01  3.41172744e-01\n",
      "   5.01749740e-01 -2.32499365e-01  3.72052359e-01 -4.25903575e-02\n",
      "   1.77018784e-02]\n",
      " [ 1.63479471e-03 -2.90636016e-03  5.74279813e-01 -7.10405325e-02\n",
      "  -3.14549320e-01  7.49883366e-01 -6.19835401e-02  4.58785873e-03\n",
      "  -3.93375075e-03]\n",
      " [ 1.33908907e-05 -1.14077892e-05  5.80190908e-03 -2.15181510e-03\n",
      "   2.88147957e-03 -5.73504703e-03 -1.22489909e-01 -6.04930528e-01\n",
      "   7.86750146e-01]\n",
      " [-6.96053715e-01 -7.17961695e-01 -7.57487350e-05 -3.79564118e-03\n",
      "   2.50334194e-03 -1.50223526e-04  4.37766998e-03 -5.55196291e-04\n",
      "   2.36025045e-04]\n",
      " [-7.17950893e-01  6.96067270e-01  1.62813209e-03 -3.77529395e-03\n",
      "   2.49754245e-03  3.65599795e-03 -6.00114914e-04  3.48250731e-05\n",
      "  -4.91718843e-05]\n",
      " [-6.16016024e-03  2.29933343e-05 -1.73453679e-01  9.06741660e-01\n",
      "  -3.78319687e-01  6.21986452e-02  2.52338778e-02 -2.47794676e-03\n",
      "   7.62164205e-03]]\n"
     ]
    }
   ],
   "source": [
    "\n",
    "w, v = LA.eig(intermediate_matrix)\n",
    "print(w) #Eigen values\n",
    "print(v) #Eigen vector matrix\n",
    "\n",
    "\n",
    "\n"
   ]
  },
  {
   "cell_type": "code",
   "execution_count": 14,
   "metadata": {},
   "outputs": [
    {
     "name": "stdout",
     "output_type": "stream",
     "text": [
      "4.760109207240793e-10\n"
     ]
    }
   ],
   "source": [
    "V_eigen_vector_matrix = v\n",
    "V_transpose = np.transpose(V_eigen_vector_matrix)\n",
    "\n",
    "eigen_square_root = []\n",
    "print(abs(w[8]))"
   ]
  },
  {
   "cell_type": "code",
   "execution_count": 15,
   "metadata": {},
   "outputs": [],
   "source": [
    "for i in range(0,len(w)):\n",
    "\teigen_square_root.append(math.sqrt(abs(w[i])))\n",
    "\n",
    "# print(eigen_square_root)\n",
    "\n",
    "Sigma_eigen_value_matrix = np.diag(eigen_square_root)\n",
    "\n",
    "# print(Sigma_eigen_value_matrix)\n",
    "# print(math.sqrt(4)) \n",
    "\n",
    "Sigma_inverse = np.linalg.inv(Sigma_eigen_value_matrix)\n",
    "\n",
    "U_matrix = np.matmul(A, np.matmul(V_eigen_vector_matrix,Sigma_inverse))\n",
    "\n",
    "\n"
   ]
  },
  {
   "cell_type": "code",
   "execution_count": 18,
   "metadata": {},
   "outputs": [
    {
     "ename": "SyntaxError",
     "evalue": "invalid syntax (<ipython-input-18-5d3bed8938c7>, line 1)",
     "output_type": "error",
     "traceback": [
      "\u001b[0;36m  File \u001b[0;32m\"<ipython-input-18-5d3bed8938c7>\"\u001b[0;36m, line \u001b[0;32m1\u001b[0m\n\u001b[0;31m    print('SVD decomposition of C is:\\n U: \\n' {U_matrix})\u001b[0m\n\u001b[0m                                               ^\u001b[0m\n\u001b[0;31mSyntaxError\u001b[0m\u001b[0;31m:\u001b[0m invalid syntax\n"
     ]
    }
   ],
   "source": [
    "print('SVD decomposition of C is:\\n U: \\n' {U_matrix})\n"
   ]
  },
  {
   "cell_type": "code",
   "execution_count": null,
   "metadata": {},
   "outputs": [],
   "source": [
    "print('Sigma :\\n {Sigma_eigen_value_matrix}')\n",
    "print('V transpose :\\n {V_transpose}')\n",
    "\n",
    "SVD_check = np.matmul(U_matrix, np.matmul(Sigma_eigen_value_matrix, V_transpose))\n",
    "print(SVD_check)"
   ]
  },
  {
   "cell_type": "code",
   "execution_count": 37,
   "metadata": {},
   "outputs": [],
   "source": [
    "def matrix_round_off(matrix):\n",
    "    for i in range(0,np.size(matrix,0)):\n",
    "        for j in range(0,np.size(matrix,1)):\n",
    "            matrix[i][j] = round(matrix[i][j],3)\n",
    "            #print(round(matrix[i][j],2))\n",
    "    return matrix"
   ]
  },
  {
   "cell_type": "code",
   "execution_count": 38,
   "metadata": {},
   "outputs": [
    {
     "name": "stdout",
     "output_type": "stream",
     "text": [
      "[[-1.2345  -4.6543 ]\n",
      " [-2.34556 -4.67565]]\n"
     ]
    }
   ],
   "source": [
    "matrix_1 = np.array([[-1.2345,-4.6543],[-2.34556,-4.67565]])\n",
    "print(matrix_1)"
   ]
  },
  {
   "cell_type": "code",
   "execution_count": 39,
   "metadata": {},
   "outputs": [
    {
     "data": {
      "text/plain": [
       "array([[-1.234, -4.654],\n",
       "       [-2.346, -4.676]])"
      ]
     },
     "execution_count": 39,
     "metadata": {},
     "output_type": "execute_result"
    }
   ],
   "source": [
    "matrix_round_off(matrix_1)"
   ]
  },
  {
   "cell_type": "code",
   "execution_count": 40,
   "metadata": {},
   "outputs": [
    {
     "name": "stdout",
     "output_type": "stream",
     "text": [
      "[ 5.31056350e-02 -4.91718844e-03  6.14648552e-01  1.77018784e-02\n",
      " -3.93375075e-03  7.86750146e-01  2.36025045e-04 -4.91718843e-05\n",
      "  7.62164205e-03]\n"
     ]
    }
   ],
   "source": [
    "print(V_eigen_vector_matrix[:,8])\n"
   ]
  },
  {
   "cell_type": "code",
   "execution_count": 26,
   "metadata": {},
   "outputs": [
    {
     "name": "stdout",
     "output_type": "stream",
     "text": [
      "[[1]\n",
      " [2]\n",
      " [3]\n",
      " [4]\n",
      " [5]\n",
      " [6]\n",
      " [7]\n",
      " [8]\n",
      " [9]]\n"
     ]
    }
   ],
   "source": [
    "arr = np.array([[1], [2], [3],[4], [5], [6],[7], [8], [9]])\n",
    "print(arr)"
   ]
  },
  {
   "cell_type": "code",
   "execution_count": 28,
   "metadata": {},
   "outputs": [
    {
     "name": "stdout",
     "output_type": "stream",
     "text": [
      "[[1 2 3]\n",
      " [4 5 6]\n",
      " [7 8 9]]\n"
     ]
    }
   ],
   "source": [
    "reshaped_arr = np.reshape(arr, (3,3))\n",
    "print(reshaped_arr)"
   ]
  },
  {
   "cell_type": "code",
   "execution_count": null,
   "metadata": {},
   "outputs": [],
   "source": [
    "import numpy as np \n",
    "import math\n",
    "from numpy import linalg as LA\n",
    "\n",
    "# First entry in list set as None for more intuitive indexing\n",
    "x = [None, 5, 150, 150, 5]\n",
    "y = [None, 5, 5, 150, 150]\n",
    "xp = [None, 100, 200, 220, 100]\n",
    "yp = [None, 100, 80, 80, 200]\n",
    "\n",
    "A = np.array([[-x[1], -y[1], -1, 0, 0, 0, x[1]*xp[1], y[1]*xp[1], xp[1]], \n",
    "\t[0, 0, 0, -x[1], -y[1], -1, x[1]*yp[1], y[1]*yp[1], yp[1]], \n",
    "\t[-x[2], -y[2], -1, 0, 0, 0, x[2]*xp[2], y[2]*xp[2], xp[2]], \n",
    "\t[0, 0, 0, -x[2], -y[2], -1, x[2]*yp[2], y[2]*yp[2], yp[2]], \n",
    "\t[-x[3], -y[3], -1, 0, 0, 0, x[3]*xp[3], y[3]*xp[3], xp[3]], \n",
    "\t[0, 0, 0, -x[3], -y[3], -1, x[3]*yp[3], y[3]*yp[3], yp[3]], \n",
    "\t[-x[4], -y[4], -1, 0, 0, 0, x[4]*xp[4], y[4]*xp[4], xp[4]], \n",
    "\t[0, 0, 0, -x[4], -y[4], -1, x[4]*yp[4], y[4]*yp[4], yp[4]]])\n",
    "\n",
    "print(A)\n",
    "\n",
    "A_transpose = np.transpose(A)\n",
    "\n",
    "# intermediate_matrix = c_transpose * c\n",
    "# intermediate_matrix = np.multiply(c_transpose,c)   #does the dot product\n",
    "intermediate_matrix = np.matmul(A_transpose,A)\n",
    "\n",
    "# print(f'C transpose:\\n {c_transpose}')\n",
    "\n",
    "# print(f'Intermediate matrix:\\n {intermediate_matrix}')\n",
    "\n",
    "# eigen_value_matrix = np.diag((1, 2, 3))\n",
    "# print(diagonal_test)\n",
    "\n",
    "w, v = LA.eig(intermediate_matrix)\n",
    "# print(w) #Eigen values\n",
    "# print(v) #Eigen vector matrix\n",
    "\n",
    "V_eigen_vector_matrix = v\n",
    "V_transpose = np.transpose(V_eigen_vector_matrix)\n",
    "\n",
    "eigen_square_root = []\n",
    "# print(w[1])\n",
    "\n",
    "for i in range(0,len(w)):\n",
    "\teigen_square_root.append(math.sqrt(abs(w[i])))\n",
    "\n",
    "# print(eigen_square_root)\n",
    "\n",
    "Sigma_eigen_value_matrix = np.diag(eigen_square_root)\n",
    "\n",
    "# print(Sigma_eigen_value_matrix)\n",
    "# print(math.sqrt(4)) \n",
    "\n",
    "Sigma_inverse = np.linalg.inv(Sigma_eigen_value_matrix)\n",
    "\n",
    "U_matrix = np.matmul(A, np.matmul(V_eigen_vector_matrix,Sigma_inverse))\n",
    "\n",
    "print(f'SVD decomposition of C is:\\nU: \\n {U_matrix}')\t\n",
    "print(f'Sigma :\\n {Sigma_eigen_value_matrix}')\t\n",
    "print(f'V transpose :\\n {V_transpose}')\n",
    "\n",
    "SVD_check = np.matmul(U_matrix, np.matmul(Sigma_eigen_value_matrix, V_transpose))\n",
    "print(f'SVD check matrix:\\n {SVD_check}')\n",
    "\n",
    "# custom function to round off a matrix to five decimal places\n",
    "def matrix_round_off(matrix):\n",
    "    for i in range(0,np.size(matrix,0)):\n",
    "        for j in range(0,np.size(matrix,1)):\n",
    "            matrix[i][j] = round(matrix[i][j],5)\n",
    "            #print(round(matrix[i][j],2))\n",
    "    return matrix\n",
    "\n",
    "print(matrix_round_off(SVD_check))\t\t\t\n",
    "\n",
    "print('Homography matrix is:- \\n')\n",
    "last_column_v = V_eigen_vector_matrix[:,8]\n",
    "\n",
    "homography_matrix = np.reshape(last_column_v, (3,3))\n",
    "print(homography_matrix)   #full precision\n",
    "# print(matrix_round_off(homography_matrix))  #uncomment for rounding off "
   ]
  },
  {
   "cell_type": "code",
   "execution_count": null,
   "metadata": {},
   "outputs": [],
   "source": []
  },
  {
   "cell_type": "code",
   "execution_count": null,
   "metadata": {},
   "outputs": [],
   "source": []
  },
  {
   "cell_type": "code",
   "execution_count": null,
   "metadata": {},
   "outputs": [],
   "source": []
  },
  {
   "cell_type": "code",
   "execution_count": null,
   "metadata": {},
   "outputs": [],
   "source": []
  },
  {
   "cell_type": "code",
   "execution_count": null,
   "metadata": {},
   "outputs": [],
   "source": []
  },
  {
   "cell_type": "code",
   "execution_count": null,
   "metadata": {},
   "outputs": [],
   "source": []
  },
  {
   "cell_type": "code",
   "execution_count": null,
   "metadata": {},
   "outputs": [],
   "source": []
  },
  {
   "cell_type": "code",
   "execution_count": null,
   "metadata": {},
   "outputs": [],
   "source": []
  },
  {
   "cell_type": "code",
   "execution_count": null,
   "metadata": {},
   "outputs": [],
   "source": []
  },
  {
   "cell_type": "code",
   "execution_count": null,
   "metadata": {},
   "outputs": [],
   "source": []
  }
 ],
 "metadata": {
  "kernelspec": {
   "display_name": "Python 3",
   "language": "python",
   "name": "python3"
  },
  "language_info": {
   "codemirror_mode": {
    "name": "ipython",
    "version": 2
   },
   "file_extension": ".py",
   "mimetype": "text/x-python",
   "name": "python",
   "nbconvert_exporter": "python",
   "pygments_lexer": "ipython2",
   "version": "2.7.17"
  }
 },
 "nbformat": 4,
 "nbformat_minor": 4
}
